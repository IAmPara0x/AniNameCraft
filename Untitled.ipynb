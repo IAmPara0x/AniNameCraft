{
 "cells": [
  {
   "cell_type": "code",
   "execution_count": 1,
   "id": "5d2009cc-3301-498e-bf59-fdda9c4bb0af",
   "metadata": {
    "tags": []
   },
   "outputs": [],
   "source": [
    "import pandas as pd\n",
    "import numpy as np\n",
    "import random\n",
    "\n",
    "from tqdm import tqdm\n",
    "\n",
    "\n",
    "import torch\n",
    "import torch.nn as nn\n",
    "import torch.nn.functional as F\n",
    "from torch.optim import AdamW"
   ]
  },
  {
   "cell_type": "code",
   "execution_count": 3,
   "id": "a53c6aad-21a7-4499-a143-dd99b55793e2",
   "metadata": {
    "tags": []
   },
   "outputs": [],
   "source": [
    "df = pd.read_csv(\"./data/characters_metadata.csv\")"
   ]
  },
  {
   "cell_type": "code",
   "execution_count": 4,
   "id": "2f16ae29-bd36-485a-a0d8-23e3a867e09e",
   "metadata": {
    "tags": []
   },
   "outputs": [
    {
     "data": {
      "text/plain": [
       "Index(['ID', 'Name', 'Alias', 'Gender', 'Hair Color', 'Love Rank', 'Hate Rank',\n",
       "       'Eye color', 'Birthday', 'Blood Type', 'Tags', 'Love Count',\n",
       "       'Hate Count', 'Description', 'url'],\n",
       "      dtype='object')"
      ]
     },
     "execution_count": 4,
     "metadata": {},
     "output_type": "execute_result"
    }
   ],
   "source": [
    "df.columns"
   ]
  },
  {
   "cell_type": "code",
   "execution_count": 5,
   "id": "9401b424-38d9-44d3-85bf-e3ef221acaaf",
   "metadata": {
    "tags": []
   },
   "outputs": [
    {
     "data": {
      "text/html": [
       "<div>\n",
       "<style scoped>\n",
       "    .dataframe tbody tr th:only-of-type {\n",
       "        vertical-align: middle;\n",
       "    }\n",
       "\n",
       "    .dataframe tbody tr th {\n",
       "        vertical-align: top;\n",
       "    }\n",
       "\n",
       "    .dataframe thead th {\n",
       "        text-align: right;\n",
       "    }\n",
       "</style>\n",
       "<table border=\"1\" class=\"dataframe\">\n",
       "  <thead>\n",
       "    <tr style=\"text-align: right;\">\n",
       "      <th></th>\n",
       "      <th>ID</th>\n",
       "      <th>Name</th>\n",
       "      <th>Alias</th>\n",
       "      <th>Gender</th>\n",
       "      <th>Hair Color</th>\n",
       "      <th>Love Rank</th>\n",
       "      <th>Hate Rank</th>\n",
       "      <th>Eye color</th>\n",
       "      <th>Birthday</th>\n",
       "      <th>Blood Type</th>\n",
       "      <th>Tags</th>\n",
       "      <th>Love Count</th>\n",
       "      <th>Hate Count</th>\n",
       "      <th>Description</th>\n",
       "      <th>url</th>\n",
       "    </tr>\n",
       "  </thead>\n",
       "  <tbody>\n",
       "    <tr>\n",
       "      <th>0</th>\n",
       "      <td>0</td>\n",
       "      <td>L</td>\n",
       "      <td>Ryuzaki</td>\n",
       "      <td>Male</td>\n",
       "      <td>Black</td>\n",
       "      <td>1.000</td>\n",
       "      <td>48.000</td>\n",
       "      <td>Black</td>\n",
       "      <td>October 31, 1979</td>\n",
       "      <td>Unknown</td>\n",
       "      <td>Analytical, Barefoot, Detectives, Eye Bags, Sw...</td>\n",
       "      <td>44.829</td>\n",
       "      <td>3.447</td>\n",
       "      <td>Secretive, meticulous and cunning, L's desire ...</td>\n",
       "      <td>https://www.anime-planet.com/characters/l-deat...</td>\n",
       "    </tr>\n",
       "    <tr>\n",
       "      <th>1</th>\n",
       "      <td>1</td>\n",
       "      <td>Haru YOSHIDA</td>\n",
       "      <td>Unknown</td>\n",
       "      <td>Male</td>\n",
       "      <td>Black</td>\n",
       "      <td>346.000</td>\n",
       "      <td>4.172</td>\n",
       "      <td>Black</td>\n",
       "      <td>April 2</td>\n",
       "      <td>Unknown</td>\n",
       "      <td>High School Students, Hot-Headed, Teenagers</td>\n",
       "      <td>4.669</td>\n",
       "      <td>124</td>\n",
       "      <td>Unknown</td>\n",
       "      <td>https://www.anime-planet.com/characters/haru-y...</td>\n",
       "    </tr>\n",
       "    <tr>\n",
       "      <th>2</th>\n",
       "      <td>2</td>\n",
       "      <td>Shinobu MAEHARA</td>\n",
       "      <td>Unknown</td>\n",
       "      <td>Female</td>\n",
       "      <td>Blue</td>\n",
       "      <td>2.942</td>\n",
       "      <td>9.110</td>\n",
       "      <td>Unknown</td>\n",
       "      <td>Unknown</td>\n",
       "      <td>Unknown</td>\n",
       "      <td>Cooks, Crybabies, Middle School Students, Shy</td>\n",
       "      <td>823</td>\n",
       "      <td>53</td>\n",
       "      <td>Unknown</td>\n",
       "      <td>https://www.anime-planet.com/characters/shinob...</td>\n",
       "    </tr>\n",
       "    <tr>\n",
       "      <th>3</th>\n",
       "      <td>3</td>\n",
       "      <td>Chizuru OSHIMA</td>\n",
       "      <td>Unknown</td>\n",
       "      <td>Female</td>\n",
       "      <td>Black</td>\n",
       "      <td>3.877</td>\n",
       "      <td>1.801</td>\n",
       "      <td>Unknown</td>\n",
       "      <td>Unknown</td>\n",
       "      <td>Unknown</td>\n",
       "      <td>Class Representatives, Glasses, High School St...</td>\n",
       "      <td>633</td>\n",
       "      <td>269</td>\n",
       "      <td>Unknown</td>\n",
       "      <td>https://www.anime-planet.com/characters/chizur...</td>\n",
       "    </tr>\n",
       "    <tr>\n",
       "      <th>4</th>\n",
       "      <td>4</td>\n",
       "      <td>Yuuzan YOSHIDA</td>\n",
       "      <td>Unknown</td>\n",
       "      <td>Male</td>\n",
       "      <td>Black</td>\n",
       "      <td>3.577</td>\n",
       "      <td>2.819</td>\n",
       "      <td>Unknown</td>\n",
       "      <td>Unknown</td>\n",
       "      <td>Unknown</td>\n",
       "      <td>Unknown</td>\n",
       "      <td>684</td>\n",
       "      <td>180</td>\n",
       "      <td>Unknown</td>\n",
       "      <td>https://www.anime-planet.com/characters/yuuzan...</td>\n",
       "    </tr>\n",
       "  </tbody>\n",
       "</table>\n",
       "</div>"
      ],
      "text/plain": [
       "   ID             Name    Alias  Gender Hair Color  Love Rank  Hate Rank  \\\n",
       "0   0                L  Ryuzaki    Male      Black      1.000     48.000   \n",
       "1   1     Haru YOSHIDA  Unknown    Male      Black    346.000      4.172   \n",
       "2   2  Shinobu MAEHARA  Unknown  Female       Blue      2.942      9.110   \n",
       "3   3   Chizuru OSHIMA  Unknown  Female      Black      3.877      1.801   \n",
       "4   4   Yuuzan YOSHIDA  Unknown    Male      Black      3.577      2.819   \n",
       "\n",
       "  Eye color          Birthday Blood Type  \\\n",
       "0     Black  October 31, 1979    Unknown   \n",
       "1     Black           April 2    Unknown   \n",
       "2   Unknown           Unknown    Unknown   \n",
       "3   Unknown           Unknown    Unknown   \n",
       "4   Unknown           Unknown    Unknown   \n",
       "\n",
       "                                                Tags Love Count Hate Count  \\\n",
       "0  Analytical, Barefoot, Detectives, Eye Bags, Sw...     44.829      3.447   \n",
       "1        High School Students, Hot-Headed, Teenagers      4.669        124   \n",
       "2      Cooks, Crybabies, Middle School Students, Shy        823         53   \n",
       "3  Class Representatives, Glasses, High School St...        633        269   \n",
       "4                                            Unknown        684        180   \n",
       "\n",
       "                                         Description  \\\n",
       "0  Secretive, meticulous and cunning, L's desire ...   \n",
       "1                                            Unknown   \n",
       "2                                            Unknown   \n",
       "3                                            Unknown   \n",
       "4                                            Unknown   \n",
       "\n",
       "                                                 url  \n",
       "0  https://www.anime-planet.com/characters/l-deat...  \n",
       "1  https://www.anime-planet.com/characters/haru-y...  \n",
       "2  https://www.anime-planet.com/characters/shinob...  \n",
       "3  https://www.anime-planet.com/characters/chizur...  \n",
       "4  https://www.anime-planet.com/characters/yuuzan...  "
      ]
     },
     "execution_count": 5,
     "metadata": {},
     "output_type": "execute_result"
    }
   ],
   "source": [
    "df.head()"
   ]
  },
  {
   "cell_type": "code",
   "execution_count": 6,
   "id": "2aba3f23-4465-4cf6-92b1-7d22d812d74b",
   "metadata": {
    "tags": []
   },
   "outputs": [],
   "source": [
    "def get_first_name(name):\n",
    "    chars = [*name]\n",
    "    len_chars = len(chars)\n",
    "    idx = 0\n",
    "    while idx < len_chars and chars[idx].isalpha() and chars[idx].isascii():\n",
    "        idx += 1\n",
    "    \n",
    "    return \"\".join(chars[:idx])"
   ]
  },
  {
   "cell_type": "code",
   "execution_count": 7,
   "id": "74ca797b-9211-4b3e-a6ad-25d34d0f21f1",
   "metadata": {
    "tags": []
   },
   "outputs": [],
   "source": [
    "female_names = list(set([*map(lambda full_name: get_first_name(full_name).lower(), df[df[\"Gender\"] == \"Female\"][\"Name\"])]))\n",
    "male_names = list(set([*map(lambda full_name: get_first_name(full_name).lower(), df[df[\"Gender\"] == \"Male\"][\"Name\"])]))"
   ]
  },
  {
   "cell_type": "code",
   "execution_count": 8,
   "id": "efca88f7-0789-4671-a83f-8a9ee9217043",
   "metadata": {},
   "outputs": [],
   "source": [
    "female_names = [*filter(lambda name: len(name) != 0, female_names)]\n",
    "male_names = [*filter(lambda name: len(name) != 0, male_names)]"
   ]
  },
  {
   "cell_type": "code",
   "execution_count": 9,
   "id": "9d49ea4b-49aa-468f-a75e-2fe9ec4c2356",
   "metadata": {
    "tags": []
   },
   "outputs": [
    {
     "name": "stdout",
     "output_type": "stream",
     "text": [
      "max female name len: 20 | max male name len: 18\n",
      "total female names: 17290 | total male names: 30758\n"
     ]
    }
   ],
   "source": [
    "print(f\"max female name len: {max(map(lambda name: len(name), female_names))} | max male name len: {max(map(lambda name: len(name), male_names))}\")\n",
    "print(f\"total female names: {len(female_names)} | total male names: {len(male_names)}\")"
   ]
  },
  {
   "cell_type": "code",
   "execution_count": 10,
   "id": "30c36956-7d94-4589-8077-3c58022b96cb",
   "metadata": {},
   "outputs": [],
   "source": [
    "\n",
    "\n",
    "# Special Tokens\n",
    "\n",
    "END_TOKEN = \"<end>\"\n",
    "PAD_TOKEN = \"<pad>\"\n",
    "\n",
    "MALE_NAME_TOKEN = \"<M>\"\n",
    "FEMALE_NAME_TOKEN = \"<F>\""
   ]
  },
  {
   "cell_type": "code",
   "execution_count": 51,
   "id": "750124f9-9f16-41f8-bde8-5207c5790823",
   "metadata": {},
   "outputs": [
    {
     "data": {
      "text/plain": [
       "{'a': 0,\n",
       " 'b': 1,\n",
       " 'c': 2,\n",
       " 'd': 3,\n",
       " 'e': 4,\n",
       " 'f': 5,\n",
       " 'g': 6,\n",
       " 'h': 7,\n",
       " 'i': 8,\n",
       " 'j': 9,\n",
       " 'k': 10,\n",
       " 'l': 11,\n",
       " 'm': 12,\n",
       " 'n': 13,\n",
       " 'o': 14,\n",
       " 'p': 15,\n",
       " 'q': 16,\n",
       " 'r': 17,\n",
       " 's': 18,\n",
       " 't': 19,\n",
       " 'u': 20,\n",
       " 'v': 21,\n",
       " 'w': 22,\n",
       " 'x': 23,\n",
       " 'y': 24,\n",
       " 'z': 25,\n",
       " '<M>': 26,\n",
       " '<F>': 27,\n",
       " '<end>': 28,\n",
       " '<pad>': 29}"
      ]
     },
     "execution_count": 51,
     "metadata": {},
     "output_type": "execute_result"
    }
   ],
   "source": [
    "token2idx"
   ]
  },
  {
   "cell_type": "code",
   "execution_count": 11,
   "id": "750776da-4443-458d-9c3b-3a2639b71375",
   "metadata": {},
   "outputs": [],
   "source": [
    "\n",
    "token2idx = {token: idx for idx, token in enumerate([chr(i) for i in range(97,123)] + [MALE_NAME_TOKEN, FEMALE_NAME_TOKEN, END_TOKEN, PAD_TOKEN])}\n",
    "idx2token = {v:k for k,v in token2idx.items()}"
   ]
  },
  {
   "cell_type": "code",
   "execution_count": 12,
   "id": "93e3b8e9-bc17-4b5c-b185-374ef39bb3fa",
   "metadata": {},
   "outputs": [],
   "source": [
    "DEVICE      = \"cuda:0\"\n",
    "VOCAB_SIZE  = len(token2idx)\n",
    "MAX_LEN     = 24\n",
    "EMBED_DIM   = 512\n",
    "HIDDEN_DIM  = 1024\n",
    "\n",
    "EPOCHS      = 8"
   ]
  },
  {
   "cell_type": "code",
   "execution_count": 13,
   "id": "66b3406e-9b3d-45b5-89ac-2e43ce49260c",
   "metadata": {},
   "outputs": [],
   "source": [
    "\n",
    "def tokenizer_encode(name, gender, max_len=24):\n",
    "\n",
    "    if gender == \"Male\":\n",
    "        gender_token = MALE_NAME_TOKEN\n",
    "    elif gender == \"Female\":\n",
    "        gender_token = FEMALE_NAME_TOKEN\n",
    "    else:\n",
    "        raise RuntimeError(\"Invalid gender\")\n",
    "    \n",
    "    name = [gender_token] + [*name[:max_len]]\n",
    "    name.append(END_TOKEN)\n",
    "    \n",
    "    while len(name) < max_len:\n",
    "        name.append(PAD_TOKEN)\n",
    "        \n",
    "    return [token2idx[c] for c in name]"
   ]
  },
  {
   "cell_type": "code",
   "execution_count": 14,
   "id": "7254b108-9c74-4fc0-85d9-20cdb9d97083",
   "metadata": {},
   "outputs": [],
   "source": [
    "\n",
    "class RNN(nn.Module):\n",
    "    \n",
    "    def __init__(self, vocab_size=VOCAB_SIZE, embd_dim=EMBED_DIM, hidden_dim=HIDDEN_DIM):\n",
    "    \n",
    "        super().__init__()\n",
    "        self.W_hh = nn.Linear(hidden_dim, hidden_dim)\n",
    "        self.W_xh = nn.Linear(embd_dim, hidden_dim)\n",
    "        self.W_hy = nn.Linear(hidden_dim, vocab_size)\n",
    "        # self.W_hg = nn.Linear(hidden_dim)\n",
    "        \n",
    "        self.h = nn.Parameter(torch.randn(hidden_dim))\n",
    "        self.embeddings = nn.Embedding(vocab_size, embd_dim)\n",
    "        \n",
    "        self.vocab_size = vocab_size\n",
    "        self.hidden_dim = hidden_dim\n",
    "        \n",
    "    def forward(self, x, device=DEVICE):\n",
    "\n",
    "        # h = self.h\n",
    "        x = self.embeddings(x)\n",
    "        batch_size, seq_len, embd_dim = x.shape\n",
    "\n",
    "\n",
    "        output = torch.zeros(batch_size, seq_len - 1, self.vocab_size).to(device)\n",
    "        hiddens = torch.zeros(batch_size, self.hidden_dim).to(device)\n",
    "        \n",
    "        for i in range(batch_size):\n",
    "            hiddens[i] = self.h\n",
    "        \n",
    "        for i in range(seq_len - 1):\n",
    "            \n",
    "            hiddens = F.tanh(self.W_hh(hiddens) + self.W_xh(x[:,i] + x[:,0]))\n",
    "            y = self.W_hy(hiddens)\n",
    "            output[:,i] = y\n",
    "        \n",
    "        return output"
   ]
  },
  {
   "cell_type": "code",
   "execution_count": 15,
   "id": "4603280f-ba95-4508-85fd-3ecf9b1e5dfc",
   "metadata": {},
   "outputs": [],
   "source": [
    "model = RNN().to(DEVICE)"
   ]
  },
  {
   "cell_type": "code",
   "execution_count": 16,
   "id": "141f2f26-68a2-4077-a7dd-9bb9284a3379",
   "metadata": {},
   "outputs": [],
   "source": [
    "\n",
    "def criterion(input_tokens, y_pred):\n",
    "        \n",
    "    y_true = input_tokens[:, 1:].clone()\n",
    "\n",
    "    # The first token will be the gender token\n",
    "    y_true[0] = -100\n",
    "    y_true.masked_fill_(y_true == token2idx[PAD_TOKEN], -100)\n",
    "    \n",
    "    # print(y_pred.shape, y_true.shape)\n",
    "    loss = F.cross_entropy(y_pred.reshape(-1,VOCAB_SIZE), y_true.reshape(-1))\n",
    "    return loss"
   ]
  },
  {
   "cell_type": "code",
   "execution_count": 17,
   "id": "3e3cd26e-1339-4ec9-85c9-2e2ec5523532",
   "metadata": {},
   "outputs": [
    {
     "name": "stderr",
     "output_type": "stream",
     "text": [
      "17290it [00:00, 688812.11it/s]\n"
     ]
    },
    {
     "name": "stdout",
     "output_type": "stream",
     "text": [
      "[27, 1, 4, 13, 10, 0, 19, 4, 28, 29, 29, 29, 29, 29, 29, 29, 29, 29, 29, 29, 29, 29, 29, 29]\n"
     ]
    },
    {
     "name": "stderr",
     "output_type": "stream",
     "text": [
      "30758it [00:00, 342730.09it/s]"
     ]
    },
    {
     "name": "stdout",
     "output_type": "stream",
     "text": [
      "[26, 2, 7, 14, 10, 8, 28, 29, 29, 29, 29, 29, 29, 29, 29, 29, 29, 29, 29, 29, 29, 29, 29, 29]\n"
     ]
    },
    {
     "name": "stderr",
     "output_type": "stream",
     "text": [
      "\n"
     ]
    }
   ],
   "source": [
    "xs = []\n",
    "\n",
    "for idx, name in tqdm(enumerate(female_names)):\n",
    "    xs.append(tokenizer_encode(name, \"Female\"))\n",
    "\n",
    "print(xs[-1])\n",
    "for idx, name in tqdm(enumerate(male_names)):\n",
    "    xs.append(tokenizer_encode(name, \"Male\"))\n",
    "\n",
    "print(xs[-1])"
   ]
  },
  {
   "cell_type": "code",
   "execution_count": 18,
   "id": "6a2b4128-944b-4c1c-bae2-53dcdf3f564b",
   "metadata": {},
   "outputs": [],
   "source": [
    "\n",
    "random.shuffle(xs)\n",
    "xs = torch.tensor(xs).to(DEVICE)"
   ]
  },
  {
   "cell_type": "code",
   "execution_count": 19,
   "id": "62053e65-b140-489f-85df-dca03f69ae96",
   "metadata": {},
   "outputs": [
    {
     "data": {
      "text/plain": [
       "tensor([[26,  5, 11,  8, 17, 19,  0, 19,  8, 14, 20, 18, 28, 29, 29, 29, 29, 29,\n",
       "         29, 29, 29, 29, 29, 29],\n",
       "        [26, 14, 17,  8,  1,  4, 28, 29, 29, 29, 29, 29, 29, 29, 29, 29, 29, 29,\n",
       "         29, 29, 29, 29, 29, 29],\n",
       "        [26, 10, 20, 18,  0, 13, 14, 18, 20, 10,  4, 28, 29, 29, 29, 29, 29, 29,\n",
       "         29, 29, 29, 29, 29, 29],\n",
       "        [26,  4, 20, 13,  6, 28, 29, 29, 29, 29, 29, 29, 29, 29, 29, 29, 29, 29,\n",
       "         29, 29, 29, 29, 29, 29],\n",
       "        [27, 13,  0, 13,  0,  1,  0, 28, 29, 29, 29, 29, 29, 29, 29, 29, 29, 29,\n",
       "         29, 29, 29, 29, 29, 29],\n",
       "        [26, 19,  0,  0, 10,  8, 28, 29, 29, 29, 29, 29, 29, 29, 29, 29, 29, 29,\n",
       "         29, 29, 29, 29, 29, 29],\n",
       "        [27, 12,  4, 13,  2,  7,  8,  7, 20,  0,  7, 20,  0, 28, 29, 29, 29, 29,\n",
       "         29, 29, 29, 29, 29, 29],\n",
       "        [26, 13, 14, 25, 20, 12, 14, 28, 29, 29, 29, 29, 29, 29, 29, 29, 29, 29,\n",
       "         29, 29, 29, 29, 29, 29],\n",
       "        [26, 10,  8, 14, 20, 28, 29, 29, 29, 29, 29, 29, 29, 29, 29, 29, 29, 29,\n",
       "         29, 29, 29, 29, 29, 29],\n",
       "        [26, 18,  7, 17,  0,  3,  4, 28, 29, 29, 29, 29, 29, 29, 29, 29, 29, 29,\n",
       "         29, 29, 29, 29, 29, 29],\n",
       "        [26, 25, 20, 20, 12,  0, 28, 29, 29, 29, 29, 29, 29, 29, 29, 29, 29, 29,\n",
       "         29, 29, 29, 29, 29, 29]], device='cuda:0')"
      ]
     },
     "execution_count": 19,
     "metadata": {},
     "output_type": "execute_result"
    }
   ],
   "source": [
    "xs[:11]"
   ]
  },
  {
   "cell_type": "code",
   "execution_count": 20,
   "id": "40b923e4-39b7-4ce7-aad7-5f9930a321f2",
   "metadata": {},
   "outputs": [],
   "source": [
    "\n",
    "BATCH_SIZE = 64\n",
    "optimizer = AdamW(model.parameters())"
   ]
  },
  {
   "cell_type": "code",
   "execution_count": 21,
   "id": "91c043f0-d4de-4075-a3cb-f5e69e14134d",
   "metadata": {},
   "outputs": [],
   "source": [
    "\n",
    "def inference(model, input_str, gender):\n",
    "    \n",
    "    while True:\n",
    "        x = torch.tensor(tokenizer_encode(input_str, gender, max_len=len(input_str))).reshape(1,-1).to(DEVICE)\n",
    "        last_logits = model(x, device=DEVICE).squeeze()[-1]\n",
    "        new_char_idx = last_logits.softmax(dim=-1).argmax().item()\n",
    "    \n",
    "        if new_char_idx == token2idx[END_TOKEN]:\n",
    "            # print(input_str)\n",
    "            break\n",
    "        \n",
    "        input_str = input_str + idx2token[new_char_idx]\n",
    "    return input_stri"
   ]
  },
  {
   "cell_type": "code",
   "execution_count": 30,
   "id": "3aab598f-3978-4332-9512-c5fc577361ed",
   "metadata": {},
   "outputs": [
    {
     "name": "stdout",
     "output_type": "stream",
     "text": [
      "========================================\n",
      "EPOCH: 0\n",
      "========================================\n"
     ]
    },
    {
     "name": "stderr",
     "output_type": "stream",
     "text": [
      "loss: 2.1484215259552 | training loss: 2.116554381031739:   9%|██████████▋                                                                                                       | 70/751 [00:00<00:05, 135.62it/s]"
     ]
    },
    {
     "name": "stdout",
     "output_type": "stream",
     "text": [
      "step count: 50 | name: yumiko | gender: Female\n",
      "step count: 50 | name: yoshimaru | gender: Male\n"
     ]
    },
    {
     "name": "stderr",
     "output_type": "stream",
     "text": [
      "loss: 2.116305112838745 | training loss: 2.1232803337217314:  15%|████████████████▌                                                                                             | 113/751 [00:00<00:04, 135.91it/s]"
     ]
    },
    {
     "name": "stdout",
     "output_type": "stream",
     "text": [
      "step count: 100 | name: yuuka | gender: Female\n",
      "step count: 100 | name: yashimaru | gender: Male\n"
     ]
    },
    {
     "name": "stderr",
     "output_type": "stream",
     "text": [
      "loss: 2.116968870162964 | training loss: 2.1205304820429194:  23%|████████████████████████▉                                                                                     | 170/751 [00:01<00:04, 135.11it/s]"
     ]
    },
    {
     "name": "stdout",
     "output_type": "stream",
     "text": [
      "step count: 150 | name: yurin | gender: Female\n",
      "step count: 150 | name: yoshinosuke | gender: Male\n"
     ]
    },
    {
     "name": "stderr",
     "output_type": "stream",
     "text": [
      "loss: 2.0876643657684326 | training loss: 2.123368576234658:  30%|█████████████████████████████████                                                                             | 226/751 [00:01<00:03, 135.68it/s]"
     ]
    },
    {
     "name": "stdout",
     "output_type": "stream",
     "text": [
      "step count: 200 | name: yuu | gender: Female\n",
      "step count: 200 | name: yoshinosuke | gender: Male\n"
     ]
    },
    {
     "name": "stderr",
     "output_type": "stream",
     "text": [
      "loss: 2.0936179161071777 | training loss: 2.1235292939072483:  36%|██████████████████████████████████████▉                                                                      | 268/751 [00:02<00:03, 135.83it/s]"
     ]
    },
    {
     "name": "stdout",
     "output_type": "stream",
     "text": [
      "step count: 250 | name: yuuka | gender: Female\n",
      "step count: 250 | name: yoshin | gender: Male\n"
     ]
    },
    {
     "name": "stderr",
     "output_type": "stream",
     "text": [
      "loss: 2.1938581466674805 | training loss: 2.1232378803626477:  43%|███████████████████████████████████████████████                                                              | 324/751 [00:02<00:03, 135.86it/s]"
     ]
    },
    {
     "name": "stdout",
     "output_type": "stream",
     "text": [
      "step count: 300 | name: yukina | gender: Female\n",
      "step count: 300 | name: yukita | gender: Male\n"
     ]
    },
    {
     "name": "stderr",
     "output_type": "stream",
     "text": [
      "loss: 2.172584056854248 | training loss: 2.1246895682590394:  49%|█████████████████████████████████████████████████████▌                                                        | 366/751 [00:02<00:02, 136.04it/s]"
     ]
    },
    {
     "name": "stdout",
     "output_type": "stream",
     "text": [
      "step count: 350 | name: yukino | gender: Female\n",
      "step count: 350 | name: yukimaru | gender: Male\n"
     ]
    },
    {
     "name": "stderr",
     "output_type": "stream",
     "text": [
      "loss: 2.188952922821045 | training loss: 2.1250536749620395:  56%|█████████████████████████████████████████████████████████████▊                                                | 422/751 [00:03<00:02, 134.93it/s]"
     ]
    },
    {
     "name": "stdout",
     "output_type": "stream",
     "text": [
      "step count: 400 | name: yoshihara | gender: Female\n",
      "step count: 400 | name: yoshitaka | gender: Male\n"
     ]
    },
    {
     "name": "stderr",
     "output_type": "stream",
     "text": [
      "loss: 2.134693145751953 | training loss: 2.126616526802047:  62%|████████████████████████████████████████████████████████████████████▌                                          | 464/751 [00:03<00:02, 134.27it/s]"
     ]
    },
    {
     "name": "stdout",
     "output_type": "stream",
     "text": [
      "step count: 450 | name: yukino | gender: Female\n",
      "step count: 450 | name: yamanosuke | gender: Male\n"
     ]
    },
    {
     "name": "stderr",
     "output_type": "stream",
     "text": [
      "loss: 2.1601579189300537 | training loss: 2.1275345220511506:  69%|███████████████████████████████████████████████████████████████████████████▍                                 | 520/751 [00:03<00:01, 135.52it/s]"
     ]
    },
    {
     "name": "stdout",
     "output_type": "stream",
     "text": [
      "step count: 500 | name: yuuri | gender: Female\n",
      "step count: 500 | name: yamaka | gender: Male\n"
     ]
    },
    {
     "name": "stderr",
     "output_type": "stream",
     "text": [
      "loss: 2.169656991958618 | training loss: 2.1268962877431954:  77%|████████████████████████████████████████████████████████████████████████████████████▌                         | 577/751 [00:04<00:01, 140.33it/s]"
     ]
    },
    {
     "name": "stdout",
     "output_type": "stream",
     "text": [
      "step count: 550 | name: yuuta | gender: Female\n",
      "step count: 550 | name: yamagi | gender: Male\n"
     ]
    },
    {
     "name": "stderr",
     "output_type": "stream",
     "text": [
      "loss: 2.1856465339660645 | training loss: 2.1270670613223475:  83%|██████████████████████████████████████████████████████████████████████████████████████████▏                  | 621/751 [00:04<00:00, 138.06it/s]"
     ]
    },
    {
     "name": "stdout",
     "output_type": "stream",
     "text": [
      "step count: 600 | name: yuuta | gender: Female\n",
      "step count: 600 | name: yasuke | gender: Male\n"
     ]
    },
    {
     "name": "stderr",
     "output_type": "stream",
     "text": [
      "loss: 2.0408565998077393 | training loss: 2.127186980473219:  88%|█████████████████████████████████████████████████████████████████████████████████████████████████             | 663/751 [00:04<00:00, 134.91it/s]"
     ]
    },
    {
     "name": "stdout",
     "output_type": "stream",
     "text": [
      "step count: 650 | name: yuushi | gender: Female\n",
      "step count: 650 | name: yoshimaru | gender: Male\n"
     ]
    },
    {
     "name": "stderr",
     "output_type": "stream",
     "text": [
      "loss: 2.152297258377075 | training loss: 2.1270945114866104:  96%|█████████████████████████████████████████████████████████████████████████████████████████████████████████▎    | 719/751 [00:05<00:00, 133.99it/s]"
     ]
    },
    {
     "name": "stdout",
     "output_type": "stream",
     "text": [
      "step count: 700 | name: yukimi | gender: Female\n",
      "step count: 700 | name: yamanosuke | gender: Male\n"
     ]
    },
    {
     "name": "stderr",
     "output_type": "stream",
     "text": [
      "loss: 2.02445387840271 | training loss: 2.1265811507457424: 100%|███████████████████████████████████████████████████████████████████████████████████████████████████████████████| 751/751 [00:05<00:00, 135.71it/s]\n"
     ]
    },
    {
     "name": "stdout",
     "output_type": "stream",
     "text": [
      "step count: 750 | name: yumin | gender: Female\n",
      "step count: 750 | name: yoshika | gender: Male\n",
      "========================================\n",
      "EPOCH: 1\n",
      "========================================\n"
     ]
    },
    {
     "name": "stderr",
     "output_type": "stream",
     "text": [
      "loss: 2.17546010017395 | training loss: 2.114105504828614:   9%|██████████▌                                                                                                      | 70/751 [00:00<00:05, 135.99it/s]"
     ]
    },
    {
     "name": "stdout",
     "output_type": "stream",
     "text": [
      "step count: 50 | name: yuuki | gender: Female\n",
      "step count: 50 | name: yuuki | gender: Male\n"
     ]
    },
    {
     "name": "stderr",
     "output_type": "stream",
     "text": [
      "loss: 2.08793306350708 | training loss: 2.1176368983711784:  15%|████████████████▋                                                                                              | 113/751 [00:00<00:04, 135.28it/s]"
     ]
    },
    {
     "name": "stdout",
     "output_type": "stream",
     "text": [
      "step count: 100 | name: yana | gender: Female\n",
      "step count: 100 | name: yashimaru | gender: Male\n"
     ]
    },
    {
     "name": "stderr",
     "output_type": "stream",
     "text": [
      "loss: 2.109851121902466 | training loss: 2.1144928153265607:  23%|████████████████████████▉                                                                                     | 170/751 [00:01<00:04, 134.48it/s]"
     ]
    },
    {
     "name": "stdout",
     "output_type": "stream",
     "text": [
      "step count: 150 | name: yuuichi | gender: Female\n",
      "step count: 150 | name: yoshinosuke | gender: Male\n"
     ]
    },
    {
     "name": "stderr",
     "output_type": "stream",
     "text": [
      "loss: 2.1019809246063232 | training loss: 2.1173462039601487:  28%|███████████████████████████████                                                                              | 214/751 [00:01<00:03, 138.15it/s]"
     ]
    },
    {
     "name": "stdout",
     "output_type": "stream",
     "text": [
      "step count: 200 | name: yuushi | gender: Female\n",
      "step count: 200 | name: yoshinosuke | gender: Male\n"
     ]
    },
    {
     "name": "stderr",
     "output_type": "stream",
     "text": [
      "loss: 2.0887606143951416 | training loss: 2.118050344153862:  36%|███████████████████████████████████████▌                                                                      | 270/751 [00:02<00:03, 136.36it/s]"
     ]
    },
    {
     "name": "stdout",
     "output_type": "stream",
     "text": [
      "step count: 250 | name: yuuki | gender: Female\n",
      "step count: 250 | name: yashin | gender: Male\n"
     ]
    },
    {
     "name": "stderr",
     "output_type": "stream",
     "text": [
      "loss: 2.1987051963806152 | training loss: 2.117777778832555:  43%|███████████████████████████████████████████████▋                                                              | 326/751 [00:02<00:03, 135.66it/s]"
     ]
    },
    {
     "name": "stdout",
     "output_type": "stream",
     "text": [
      "step count: 300 | name: yukika | gender: Female\n",
      "step count: 300 | name: yukita | gender: Male\n"
     ]
    },
    {
     "name": "stderr",
     "output_type": "stream",
     "text": [
      "loss: 2.1756725311279297 | training loss: 2.11922719718923:  49%|██████████████████████████████████████████████████████▍                                                        | 368/751 [00:02<00:02, 135.51it/s]"
     ]
    },
    {
     "name": "stdout",
     "output_type": "stream",
     "text": [
      "step count: 350 | name: yuuzaku | gender: Female\n",
      "step count: 350 | name: yukito | gender: Male\n"
     ]
    },
    {
     "name": "stderr",
     "output_type": "stream",
     "text": [
      "loss: 2.145167112350464 | training loss: 2.1193398419120504:  56%|██████████████████████████████████████████████████████████████                                                | 424/751 [00:03<00:02, 134.24it/s]"
     ]
    },
    {
     "name": "stdout",
     "output_type": "stream",
     "text": [
      "step count: 400 | name: yoshika | gender: Female\n",
      "step count: 400 | name: yoshitaka | gender: Male\n"
     ]
    },
    {
     "name": "stderr",
     "output_type": "stream",
     "text": [
      "loss: 2.12910795211792 | training loss: 2.1208032086616804:  62%|████████████████████████████████████████████████████████████████████▉                                          | 466/751 [00:03<00:02, 134.30it/s]"
     ]
    },
    {
     "name": "stdout",
     "output_type": "stream",
     "text": [
      "step count: 450 | name: yukiha | gender: Female\n",
      "step count: 450 | name: yamanosuke | gender: Male\n"
     ]
    },
    {
     "name": "stderr",
     "output_type": "stream",
     "text": [
      "loss: 2.2206735610961914 | training loss: 2.1217532135234585:  70%|███████████████████████████████████████████████████████████████████████████▊                                 | 522/751 [00:03<00:01, 135.47it/s]"
     ]
    },
    {
     "name": "stdout",
     "output_type": "stream",
     "text": [
      "step count: 500 | name: yuu | gender: Female\n",
      "step count: 500 | name: yamanosuke | gender: Male\n"
     ]
    },
    {
     "name": "stderr",
     "output_type": "stream",
     "text": [
      "loss: 2.0994958877563477 | training loss: 2.1211721073422165:  75%|█████████████████████████████████████████████████████████████████████████████████▊                           | 564/751 [00:04<00:01, 135.05it/s]"
     ]
    },
    {
     "name": "stdout",
     "output_type": "stream",
     "text": [
      "step count: 550 | name: yuuta | gender: Female\n",
      "step count: 550 | name: yasuhito | gender: Male\n"
     ]
    },
    {
     "name": "stderr",
     "output_type": "stream",
     "text": [
      "loss: 2.1757969856262207 | training loss: 2.121512993671107:  83%|██████████████████████████████████████████████████████████████████████████████████████████▊                   | 620/751 [00:04<00:00, 135.32it/s]"
     ]
    },
    {
     "name": "stdout",
     "output_type": "stream",
     "text": [
      "step count: 600 | name: yuuta | gender: Female\n",
      "step count: 600 | name: yuusuke | gender: Male\n"
     ]
    },
    {
     "name": "stderr",
     "output_type": "stream",
     "text": [
      "loss: 2.0060911178588867 | training loss: 2.1215274838300853:  90%|██████████████████████████████████████████████████████████████████████████████████████████████████           | 676/751 [00:04<00:00, 134.58it/s]"
     ]
    },
    {
     "name": "stdout",
     "output_type": "stream",
     "text": [
      "step count: 650 | name: yuusa | gender: Female\n",
      "step count: 650 | name: yukiyoshi | gender: Male\n"
     ]
    },
    {
     "name": "stderr",
     "output_type": "stream",
     "text": [
      "loss: 2.0534989833831787 | training loss: 2.1213126546579018:  96%|████████████████████████████████████████████████████████████████████████████████████████████████████████▏    | 718/751 [00:05<00:00, 134.83it/s]"
     ]
    },
    {
     "name": "stdout",
     "output_type": "stream",
     "text": [
      "step count: 700 | name: yuriko | gender: Female\n",
      "step count: 700 | name: yamagawa | gender: Male\n"
     ]
    },
    {
     "name": "stderr",
     "output_type": "stream",
     "text": [
      "loss: 2.018373966217041 | training loss: 2.1208934088680302: 100%|██████████████████████████████████████████████████████████████████████████████████████████████████████████████| 751/751 [00:05<00:00, 135.54it/s]\n"
     ]
    },
    {
     "name": "stdout",
     "output_type": "stream",
     "text": [
      "step count: 750 | name: yuuta | gender: Female\n",
      "step count: 750 | name: yoshiki | gender: Male\n",
      "========================================\n",
      "EPOCH: 2\n",
      "========================================\n"
     ]
    },
    {
     "name": "stderr",
     "output_type": "stream",
     "text": [
      "loss: 2.1561663150787354 | training loss: 2.1070746833627876:   9%|██████████▎                                                                                                   | 70/751 [00:00<00:05, 135.94it/s]"
     ]
    },
    {
     "name": "stdout",
     "output_type": "stream",
     "text": [
      "step count: 50 | name: yuuya | gender: Female\n",
      "step count: 50 | name: yukito | gender: Male\n"
     ]
    },
    {
     "name": "stderr",
     "output_type": "stream",
     "text": [
      "loss: 2.082498550415039 | training loss: 2.1133690997371524:  17%|██████████████████▍                                                                                           | 126/751 [00:00<00:04, 135.73it/s]"
     ]
    },
    {
     "name": "stdout",
     "output_type": "stream",
     "text": [
      "step count: 100 | name: yuu | gender: Female\n",
      "step count: 100 | name: yashima | gender: Male\n"
     ]
    },
    {
     "name": "stderr",
     "output_type": "stream",
     "text": [
      "loss: 2.100679397583008 | training loss: 2.1100676784461196:  22%|████████████████████████▌                                                                                     | 168/751 [00:01<00:04, 133.47it/s]"
     ]
    },
    {
     "name": "stdout",
     "output_type": "stream",
     "text": [
      "step count: 150 | name: yukimi | gender: Female\n",
      "step count: 150 | name: yoshinosuke | gender: Male\n"
     ]
    },
    {
     "name": "stderr",
     "output_type": "stream",
     "text": [
      "loss: 2.1703174114227295 | training loss: 2.1126989046377793:  30%|████████████████████████████████▏                                                                            | 222/751 [00:01<00:04, 125.40it/s]"
     ]
    },
    {
     "name": "stdout",
     "output_type": "stream",
     "text": [
      "step count: 200 | name: yuusuke | gender: Female\n",
      "step count: 200 | name: yoshinori | gender: Male\n"
     ]
    },
    {
     "name": "stderr",
     "output_type": "stream",
     "text": [
      "loss: 2.1465933322906494 | training loss: 2.1138828031338046:  36%|███████████████████████████████████████▊                                                                     | 274/751 [00:02<00:03, 123.57it/s]"
     ]
    },
    {
     "name": "stdout",
     "output_type": "stream",
     "text": [
      "step count: 250 | name: yuuri | gender: Female\n",
      "step count: 250 | name: yoshinari | gender: Male\n"
     ]
    },
    {
     "name": "stderr",
     "output_type": "stream",
     "text": [
      "loss: 2.1485648155212402 | training loss: 2.1123594130262915:  42%|█████████████████████████████████████████████▍                                                               | 313/751 [00:02<00:03, 122.74it/s]"
     ]
    },
    {
     "name": "stdout",
     "output_type": "stream",
     "text": [
      "step count: 300 | name: yukiha | gender: Female\n",
      "step count: 300 | name: yukitaka | gender: Male\n"
     ]
    },
    {
     "name": "stderr",
     "output_type": "stream",
     "text": [
      "loss: 2.111905574798584 | training loss: 2.1144050560533043:  49%|█████████████████████████████████████████████████████▍                                                        | 365/751 [00:02<00:03, 123.73it/s]"
     ]
    },
    {
     "name": "stdout",
     "output_type": "stream",
     "text": [
      "step count: 350 | name: yuu | gender: Female\n",
      "step count: 350 | name: yokoko | gender: Male\n"
     ]
    },
    {
     "name": "stderr",
     "output_type": "stream",
     "text": [
      "loss: 2.1696739196777344 | training loss: 2.1145276941780775:  56%|████████████████████████████████████████████████████████████▌                                                | 417/751 [00:03<00:02, 122.57it/s]"
     ]
    },
    {
     "name": "stdout",
     "output_type": "stream",
     "text": [
      "step count: 400 | name: yoshimi | gender: Female\n",
      "step count: 400 | name: yoshitaka | gender: Male\n"
     ]
    },
    {
     "name": "stderr",
     "output_type": "stream",
     "text": [
      "loss: 2.1166903972625732 | training loss: 2.1161161007257454:  62%|████████████████████████████████████████████████████████████████████                                         | 469/751 [00:03<00:02, 123.62it/s]"
     ]
    },
    {
     "name": "stdout",
     "output_type": "stream",
     "text": [
      "step count: 450 | name: yukihime | gender: Female\n",
      "step count: 450 | name: yamanosuke | gender: Male\n"
     ]
    },
    {
     "name": "stderr",
     "output_type": "stream",
     "text": [
      "loss: 2.136939525604248 | training loss: 2.116612213225592:  70%|█████████████████████████████████████████████████████████████████████████████▏                                 | 522/751 [00:04<00:01, 125.06it/s]"
     ]
    },
    {
     "name": "stdout",
     "output_type": "stream",
     "text": [
      "step count: 500 | name: yuuta | gender: Female\n",
      "step count: 500 | name: yamanosuke | gender: Male\n"
     ]
    },
    {
     "name": "stderr",
     "output_type": "stream",
     "text": [
      "loss: 2.2284016609191895 | training loss: 2.115952104226222:  76%|████████████████████████████████████████████████████████████████████████████████████                          | 574/751 [00:04<00:01, 124.39it/s]"
     ]
    },
    {
     "name": "stdout",
     "output_type": "stream",
     "text": [
      "step count: 550 | name: yuuta | gender: Female\n",
      "step count: 550 | name: yamagaki | gender: Male\n"
     ]
    },
    {
     "name": "stderr",
     "output_type": "stream",
     "text": [
      "loss: 2.0827808380126953 | training loss: 2.1167697520592275:  82%|████████████████████████████████████████████████████████████████████████████████████████▉                    | 613/751 [00:04<00:01, 123.50it/s]"
     ]
    },
    {
     "name": "stdout",
     "output_type": "stream",
     "text": [
      "step count: 600 | name: yuuta | gender: Female\n",
      "step count: 600 | name: yasuno | gender: Male\n"
     ]
    },
    {
     "name": "stderr",
     "output_type": "stream",
     "text": [
      "loss: 2.114816665649414 | training loss: 2.1168840835712572:  89%|█████████████████████████████████████████████████████████████████████████████████████████████████▍            | 665/751 [00:05<00:00, 125.15it/s]"
     ]
    },
    {
     "name": "stdout",
     "output_type": "stream",
     "text": [
      "step count: 650 | name: yuki | gender: Female\n",
      "step count: 650 | name: yuusaku | gender: Male\n"
     ]
    },
    {
     "name": "stderr",
     "output_type": "stream",
     "text": [
      "loss: 2.1775259971618652 | training loss: 2.1170142831473515:  95%|████████████████████████████████████████████████████████████████████████████████████████████████████████     | 717/751 [00:05<00:00, 125.89it/s]"
     ]
    },
    {
     "name": "stdout",
     "output_type": "stream",
     "text": [
      "step count: 700 | name: yuriko | gender: Female\n",
      "step count: 700 | name: yamane | gender: Male\n"
     ]
    },
    {
     "name": "stderr",
     "output_type": "stream",
     "text": [
      "loss: 1.9987648725509644 | training loss: 2.116729253935274: 100%|██████████████████████████████████████████████████████████████████████████████████████████████████████████████| 751/751 [00:05<00:00, 126.55it/s]\n"
     ]
    },
    {
     "name": "stdout",
     "output_type": "stream",
     "text": [
      "step count: 750 | name: yuu | gender: Female\n",
      "step count: 750 | name: yoshika | gender: Male\n",
      "========================================\n",
      "EPOCH: 3\n",
      "========================================\n"
     ]
    },
    {
     "name": "stderr",
     "output_type": "stream",
     "text": [
      "loss: 2.0878360271453857 | training loss: 2.10004502137502:   9%|██████████▎                                                                                                     | 69/751 [00:00<00:05, 128.51it/s]"
     ]
    },
    {
     "name": "stdout",
     "output_type": "stream",
     "text": [
      "step count: 50 | name: yukiko | gender: Female\n",
      "step count: 50 | name: yasuke | gender: Male\n"
     ]
    },
    {
     "name": "stderr",
     "output_type": "stream",
     "text": [
      "loss: 2.0879437923431396 | training loss: 2.105988828659058:  16%|█████████████████▋                                                                                            | 121/751 [00:00<00:04, 128.06it/s]"
     ]
    },
    {
     "name": "stdout",
     "output_type": "stream",
     "text": [
      "step count: 100 | name: yuuna | gender: Female\n",
      "step count: 100 | name: yashima | gender: Male\n"
     ]
    },
    {
     "name": "stderr",
     "output_type": "stream",
     "text": [
      "loss: 2.1767191886901855 | training loss: 2.1040634311948505:  23%|█████████████████████████▎                                                                                   | 174/751 [00:01<00:04, 127.58it/s]"
     ]
    },
    {
     "name": "stdout",
     "output_type": "stream",
     "text": [
      "step count: 150 | name: yukiko | gender: Female\n",
      "step count: 150 | name: yoshimaru | gender: Male\n"
     ]
    },
    {
     "name": "stderr",
     "output_type": "stream",
     "text": [
      "loss: 2.1506731510162354 | training loss: 2.1080383825302125:  28%|██████████████████████████████▉                                                                              | 213/751 [00:01<00:04, 126.79it/s]"
     ]
    },
    {
     "name": "stdout",
     "output_type": "stream",
     "text": [
      "step count: 200 | name: yuu | gender: Female\n",
      "step count: 200 | name: yuuza | gender: Male\n"
     ]
    },
    {
     "name": "stderr",
     "output_type": "stream",
     "text": [
      "loss: 2.08617901802063 | training loss: 2.108539922945741:  36%|███████████████████████████████████████▊                                                                        | 267/751 [00:02<00:03, 129.31it/s]"
     ]
    },
    {
     "name": "stdout",
     "output_type": "stream",
     "text": [
      "step count: 250 | name: yuuri | gender: Female\n",
      "step count: 250 | name: yashin | gender: Male\n"
     ]
    },
    {
     "name": "stderr",
     "output_type": "stream",
     "text": [
      "loss: 2.072596549987793 | training loss: 2.1072490387696488:  43%|███████████████████████████████████████████████▏                                                              | 322/751 [00:02<00:03, 128.47it/s]"
     ]
    },
    {
     "name": "stdout",
     "output_type": "stream",
     "text": [
      "step count: 300 | name: yukiko | gender: Female\n",
      "step count: 300 | name: yukita | gender: Male\n"
     ]
    },
    {
     "name": "stderr",
     "output_type": "stream",
     "text": [
      "loss: 2.1833693981170654 | training loss: 2.109751499493917:  50%|██████████████████████████████████████████████████████▉                                                       | 375/751 [00:02<00:02, 127.54it/s]"
     ]
    },
    {
     "name": "stdout",
     "output_type": "stream",
     "text": [
      "step count: 350 | name: yukiko | gender: Female\n",
      "step count: 350 | name: yukitaka | gender: Male\n"
     ]
    },
    {
     "name": "stderr",
     "output_type": "stream",
     "text": [
      "loss: 2.131394863128662 | training loss: 2.109721932771071:  55%|█████████████████████████████████████████████████████████████▏                                                 | 414/751 [00:03<00:02, 123.93it/s]"
     ]
    },
    {
     "name": "stdout",
     "output_type": "stream",
     "text": [
      "step count: 400 | name: yoshika | gender: Female\n",
      "step count: 400 | name: yoshitaka | gender: Male\n"
     ]
    },
    {
     "name": "stderr",
     "output_type": "stream",
     "text": [
      "loss: 2.1152641773223877 | training loss: 2.111282930595462:  62%|████████████████████████████████████████████████████████████████████▎                                         | 466/751 [00:03<00:02, 123.21it/s]"
     ]
    },
    {
     "name": "stdout",
     "output_type": "stream",
     "text": [
      "step count: 450 | name: yukino | gender: Female\n",
      "step count: 450 | name: yamanosuke | gender: Male\n"
     ]
    },
    {
     "name": "stderr",
     "output_type": "stream",
     "text": [
      "loss: 2.1296753883361816 | training loss: 2.1118109305699666:  69%|███████████████████████████████████████████████████████████████████████████▏                                 | 518/751 [00:04<00:01, 124.19it/s]"
     ]
    },
    {
     "name": "stdout",
     "output_type": "stream",
     "text": [
      "step count: 500 | name: yuu | gender: Female\n",
      "step count: 500 | name: yamaka | gender: Male\n"
     ]
    },
    {
     "name": "stderr",
     "output_type": "stream",
     "text": [
      "loss: 2.112790822982788 | training loss: 2.1112253996487094:  76%|███████████████████████████████████████████████████████████████████████████████████▋                          | 571/751 [00:04<00:01, 130.47it/s]"
     ]
    },
    {
     "name": "stdout",
     "output_type": "stream",
     "text": [
      "step count: 550 | name: yuuki | gender: Female\n",
      "step count: 550 | name: yasuhito | gender: Male\n"
     ]
    },
    {
     "name": "stderr",
     "output_type": "stream",
     "text": [
      "loss: 2.161250114440918 | training loss: 2.111774773308725:  82%|██████████████████████████████████████████████████████████████████████████████████████████▌                    | 613/751 [00:04<00:01, 133.53it/s]"
     ]
    },
    {
     "name": "stdout",
     "output_type": "stream",
     "text": [
      "step count: 600 | name: yune | gender: Female\n",
      "step count: 600 | name: yasuka | gender: Male\n"
     ]
    },
    {
     "name": "stderr",
     "output_type": "stream",
     "text": [
      "loss: 2.118776559829712 | training loss: 2.111823716050941:  89%|██████████████████████████████████████████████████████████████████████████████████████████████████▉            | 669/751 [00:05<00:00, 134.96it/s]"
     ]
    },
    {
     "name": "stdout",
     "output_type": "stream",
     "text": [
      "step count: 650 | name: yuuko | gender: Female\n",
      "step count: 650 | name: yuusaku | gender: Male\n"
     ]
    },
    {
     "name": "stderr",
     "output_type": "stream",
     "text": [
      "loss: 2.053154706954956 | training loss: 2.112017230941636:  97%|███████████████████████████████████████████████████████████████████████████████████████████████████████████▏   | 725/751 [00:05<00:00, 135.25it/s]"
     ]
    },
    {
     "name": "stdout",
     "output_type": "stream",
     "text": [
      "step count: 700 | name: yuri | gender: Female\n",
      "step count: 700 | name: yamagawa | gender: Male\n"
     ]
    },
    {
     "name": "stderr",
     "output_type": "stream",
     "text": [
      "loss: 2.0002238750457764 | training loss: 2.1116979530108435: 100%|█████████████████████████████████████████████████████████████████████████████████████████████████████████████| 751/751 [00:05<00:00, 129.01it/s]\n"
     ]
    },
    {
     "name": "stdout",
     "output_type": "stream",
     "text": [
      "step count: 750 | name: yoshino | gender: Female\n",
      "step count: 750 | name: yoshiki | gender: Male\n",
      "========================================\n",
      "EPOCH: 4\n",
      "========================================\n"
     ]
    },
    {
     "name": "stderr",
     "output_type": "stream",
     "text": [
      "loss: 2.1756601333618164 | training loss: 2.095976922419164:  10%|██████████▋                                                                                                    | 72/751 [00:00<00:04, 135.82it/s]"
     ]
    },
    {
     "name": "stdout",
     "output_type": "stream",
     "text": [
      "step count: 50 | name: yuuki | gender: Female\n",
      "step count: 50 | name: yukito | gender: Male\n"
     ]
    },
    {
     "name": "stderr",
     "output_type": "stream",
     "text": [
      "loss: 2.2600653171539307 | training loss: 2.1021197419317943:  15%|████████████████▌                                                                                            | 114/751 [00:00<00:04, 134.01it/s]"
     ]
    },
    {
     "name": "stdout",
     "output_type": "stream",
     "text": [
      "step count: 100 | name: yashima | gender: Female\n",
      "step count: 100 | name: yasuhito | gender: Male\n"
     ]
    },
    {
     "name": "stderr",
     "output_type": "stream",
     "text": [
      "loss: 2.096046209335327 | training loss: 2.0994137660258234:  23%|████████████████████████▉                                                                                     | 170/751 [00:01<00:04, 135.14it/s]"
     ]
    },
    {
     "name": "stdout",
     "output_type": "stream",
     "text": [
      "step count: 150 | name: yukimi | gender: Female\n",
      "step count: 150 | name: yoshimaru | gender: Male\n"
     ]
    },
    {
     "name": "stderr",
     "output_type": "stream",
     "text": [
      "loss: 2.057142734527588 | training loss: 2.102840086962158:  29%|███████████████████████████████▊                                                                               | 215/751 [00:01<00:03, 139.41it/s]"
     ]
    },
    {
     "name": "stdout",
     "output_type": "stream",
     "text": [
      "step count: 200 | name: yuusuke | gender: Female\n",
      "step count: 200 | name: yoshin | gender: Male\n"
     ]
    },
    {
     "name": "stderr",
     "output_type": "stream",
     "text": [
      "loss: 2.075011968612671 | training loss: 2.103451877294465:  36%|████████████████████████████████████████▏                                                                      | 272/751 [00:02<00:03, 138.31it/s]"
     ]
    },
    {
     "name": "stdout",
     "output_type": "stream",
     "text": [
      "step count: 250 | name: yuuhi | gender: Female\n",
      "step count: 250 | name: yoshinaga | gender: Male\n"
     ]
    },
    {
     "name": "stderr",
     "output_type": "stream",
     "text": [
      "loss: 2.202199935913086 | training loss: 2.1031588641412418:  42%|██████████████████████████████████████████████▏                                                               | 315/751 [00:02<00:03, 136.25it/s]"
     ]
    },
    {
     "name": "stdout",
     "output_type": "stream",
     "text": [
      "step count: 300 | name: yung | gender: Female\n",
      "step count: 300 | name: yukinosuke | gender: Male\n"
     ]
    },
    {
     "name": "stderr",
     "output_type": "stream",
     "text": [
      "loss: 2.1625657081604004 | training loss: 2.104865209809665:  49%|██████████████████████████████████████████████████████▎                                                       | 371/751 [00:02<00:02, 136.92it/s]"
     ]
    },
    {
     "name": "stdout",
     "output_type": "stream",
     "text": [
      "step count: 350 | name: yuki | gender: Female\n",
      "step count: 350 | name: yukitaka | gender: Male\n"
     ]
    },
    {
     "name": "stderr",
     "output_type": "stream",
     "text": [
      "loss: 2.155316114425659 | training loss: 2.105250768136643:  55%|█████████████████████████████████████████████████████████████                                                  | 413/751 [00:03<00:02, 135.32it/s]"
     ]
    },
    {
     "name": "stdout",
     "output_type": "stream",
     "text": [
      "step count: 400 | name: yoshino | gender: Female\n",
      "step count: 400 | name: yoshitaka | gender: Male\n"
     ]
    },
    {
     "name": "stderr",
     "output_type": "stream",
     "text": [
      "loss: 2.1389000415802 | training loss: 2.1063543220735945:  63%|██████████████████████████████████████████████████████████████████████                                          | 470/751 [00:03<00:02, 136.57it/s]"
     ]
    },
    {
     "name": "stdout",
     "output_type": "stream",
     "text": [
      "step count: 450 | name: yamano | gender: Female\n",
      "step count: 450 | name: yamagawa | gender: Male\n"
     ]
    },
    {
     "name": "stderr",
     "output_type": "stream",
     "text": [
      "loss: 2.128142833709717 | training loss: 2.107217392387607:  68%|███████████████████████████████████████████████████████████████████████████▊                                   | 513/751 [00:03<00:01, 136.72it/s]"
     ]
    },
    {
     "name": "stdout",
     "output_type": "stream",
     "text": [
      "step count: 500 | name: yuuka | gender: Female\n",
      "step count: 500 | name: yuuki | gender: Male\n"
     ]
    },
    {
     "name": "stderr",
     "output_type": "stream",
     "text": [
      "loss: 2.1050403118133545 | training loss: 2.1063368733668866:  76%|██████████████████████████████████████████████████████████████████████████████████▋                          | 570/751 [00:04<00:01, 136.68it/s]"
     ]
    },
    {
     "name": "stdout",
     "output_type": "stream",
     "text": [
      "step count: 550 | name: yuuji | gender: Female\n",
      "step count: 550 | name: yamagi | gender: Male\n"
     ]
    },
    {
     "name": "stderr",
     "output_type": "stream",
     "text": [
      "loss: 2.006047248840332 | training loss: 2.106594613782919:  84%|████████████████████████████████████████████████████████████████████████████████████████████▊                  | 628/751 [00:04<00:00, 139.19it/s]"
     ]
    },
    {
     "name": "stdout",
     "output_type": "stream",
     "text": [
      "step count: 600 | name: yune | gender: Female\n",
      "step count: 600 | name: yasuke | gender: Male\n"
     ]
    },
    {
     "name": "stderr",
     "output_type": "stream",
     "text": [
      "loss: 2.1075098514556885 | training loss: 2.1070284913878674:  89%|█████████████████████████████████████████████████████████████████████████████████████████████████▏           | 670/751 [00:04<00:00, 137.80it/s]"
     ]
    },
    {
     "name": "stdout",
     "output_type": "stream",
     "text": [
      "step count: 650 | name: yuushi | gender: Female\n",
      "step count: 650 | name: yuuichi | gender: Male\n"
     ]
    },
    {
     "name": "stderr",
     "output_type": "stream",
     "text": [
      "loss: 2.066108465194702 | training loss: 2.1070990523085142:  97%|██████████████████████████████████████████████████████████████████████████████████████████████████████████▍   | 727/751 [00:05<00:00, 137.33it/s]"
     ]
    },
    {
     "name": "stdout",
     "output_type": "stream",
     "text": [
      "step count: 700 | name: yuri | gender: Female\n",
      "step count: 700 | name: yamagawa | gender: Male\n"
     ]
    },
    {
     "name": "stderr",
     "output_type": "stream",
     "text": [
      "loss: 2.020493984222412 | training loss: 2.106670296144549: 100%|███████████████████████████████████████████████████████████████████████████████████████████████████████████████| 751/751 [00:05<00:00, 136.98it/s]\n"
     ]
    },
    {
     "name": "stdout",
     "output_type": "stream",
     "text": [
      "step count: 750 | name: yuune | gender: Female\n",
      "step count: 750 | name: yoshika | gender: Male\n",
      "========================================\n",
      "EPOCH: 5\n",
      "========================================\n"
     ]
    },
    {
     "name": "stderr",
     "output_type": "stream",
     "text": [
      "loss: 2.1389920711517334 | training loss: 2.0927371163117257:   9%|██████████▎                                                                                                   | 70/751 [00:00<00:05, 134.05it/s]"
     ]
    },
    {
     "name": "stdout",
     "output_type": "stream",
     "text": [
      "step count: 50 | name: yuuno | gender: Female\n",
      "step count: 50 | name: yukinosuke | gender: Male\n"
     ]
    },
    {
     "name": "stderr",
     "output_type": "stream",
     "text": [
      "loss: 2.075221538543701 | training loss: 2.0991143889314547:  17%|██████████████████▍                                                                                           | 126/751 [00:00<00:04, 135.13it/s]"
     ]
    },
    {
     "name": "stdout",
     "output_type": "stream",
     "text": [
      "step count: 100 | name: yuuka | gender: Female\n",
      "step count: 100 | name: yashimaru | gender: Male\n"
     ]
    },
    {
     "name": "stderr",
     "output_type": "stream",
     "text": [
      "loss: 2.0986809730529785 | training loss: 2.096466985615817:  22%|████████████████████████▌                                                                                     | 168/751 [00:01<00:04, 134.02it/s]"
     ]
    },
    {
     "name": "stdout",
     "output_type": "stream",
     "text": [
      "step count: 150 | name: yoshino | gender: Female\n",
      "step count: 150 | name: yoshimaru | gender: Male\n"
     ]
    },
    {
     "name": "stderr",
     "output_type": "stream",
     "text": [
      "loss: 2.0465540885925293 | training loss: 2.0996047951576466:  30%|████████████████████████████████▌                                                                            | 224/751 [00:01<00:03, 134.90it/s]"
     ]
    },
    {
     "name": "stdout",
     "output_type": "stream",
     "text": [
      "step count: 200 | name: yuusuke | gender: Female\n",
      "step count: 200 | name: yoshino | gender: Male\n"
     ]
    },
    {
     "name": "stderr",
     "output_type": "stream",
     "text": [
      "loss: 2.079559564590454 | training loss: 2.1006427211451615:  35%|██████████████████████████████████████▉                                                                       | 266/751 [00:02<00:03, 135.27it/s]"
     ]
    },
    {
     "name": "stdout",
     "output_type": "stream",
     "text": [
      "step count: 250 | name: yuuka | gender: Female\n",
      "step count: 250 | name: yoshinari | gender: Male\n"
     ]
    },
    {
     "name": "stderr",
     "output_type": "stream",
     "text": [
      "loss: 2.1795318126678467 | training loss: 2.099911212192034:  43%|███████████████████████████████████████████████▍                                                              | 324/751 [00:02<00:03, 137.55it/s]"
     ]
    },
    {
     "name": "stdout",
     "output_type": "stream",
     "text": [
      "step count: 300 | name: yukita | gender: Female\n",
      "step count: 300 | name: yukita | gender: Male\n"
     ]
    },
    {
     "name": "stderr",
     "output_type": "stream",
     "text": [
      "loss: 2.181553840637207 | training loss: 2.1012765071120123:  49%|█████████████████████████████████████████████████████▉                                                        | 368/751 [00:02<00:02, 138.74it/s]"
     ]
    },
    {
     "name": "stdout",
     "output_type": "stream",
     "text": [
      "step count: 350 | name: yuu | gender: Female\n",
      "step count: 350 | name: yukihiko | gender: Male\n"
     ]
    },
    {
     "name": "stderr",
     "output_type": "stream",
     "text": [
      "loss: 2.1710729598999023 | training loss: 2.1016746245725932:  57%|█████████████████████████████████████████████████████████████▋                                               | 425/751 [00:03<00:02, 136.86it/s]"
     ]
    },
    {
     "name": "stdout",
     "output_type": "stream",
     "text": [
      "step count: 400 | name: yoshika | gender: Female\n",
      "step count: 400 | name: yoshitoki | gender: Male\n"
     ]
    },
    {
     "name": "stderr",
     "output_type": "stream",
     "text": [
      "loss: 2.1333529949188232 | training loss: 2.1025897829287707:  62%|███████████████████████████████████████████████████████████████████▊                                         | 467/751 [00:03<00:02, 135.45it/s]"
     ]
    },
    {
     "name": "stdout",
     "output_type": "stream",
     "text": [
      "step count: 450 | name: yukihiko | gender: Female\n",
      "step count: 450 | name: yamano | gender: Male\n"
     ]
    },
    {
     "name": "stderr",
     "output_type": "stream",
     "text": [
      "loss: 2.1493020057678223 | training loss: 2.1032113793678935:  70%|███████████████████████████████████████████████████████████████████████████▉                                 | 523/751 [00:03<00:01, 136.19it/s]"
     ]
    },
    {
     "name": "stdout",
     "output_type": "stream",
     "text": [
      "step count: 500 | name: yuuko | gender: Female\n",
      "step count: 500 | name: yamakawa | gender: Male\n"
     ]
    },
    {
     "name": "stderr",
     "output_type": "stream",
     "text": [
      "loss: 2.1283252239227295 | training loss: 2.1026083533628:  75%|████████████████████████████████████████████████████████████████████████████████████▌                           | 567/751 [00:04<00:01, 139.82it/s]"
     ]
    },
    {
     "name": "stdout",
     "output_type": "stream",
     "text": [
      "step count: 550 | name: yuusuke | gender: Female\n",
      "step count: 550 | name: yamakichi | gender: Male\n"
     ]
    },
    {
     "name": "stderr",
     "output_type": "stream",
     "text": [
      "loss: 1.9790138006210327 | training loss: 2.102943015516184:  83%|███████████████████████████████████████████████████████████████████████████████████████████▊                  | 627/751 [00:04<00:00, 142.56it/s]"
     ]
    },
    {
     "name": "stdout",
     "output_type": "stream",
     "text": [
      "step count: 600 | name: yung | gender: Female\n",
      "step count: 600 | name: yuuki | gender: Male\n"
     ]
    },
    {
     "name": "stderr",
     "output_type": "stream",
     "text": [
      "loss: 2.083526372909546 | training loss: 2.1030930928676836:  89%|██████████████████████████████████████████████████████████████████████████████████████████████████▍           | 672/751 [00:04<00:00, 138.45it/s]"
     ]
    },
    {
     "name": "stdout",
     "output_type": "stream",
     "text": [
      "step count: 650 | name: yumiko | gender: Female\n",
      "step count: 650 | name: yukihiko | gender: Male\n"
     ]
    },
    {
     "name": "stderr",
     "output_type": "stream",
     "text": [
      "loss: 2.086172103881836 | training loss: 2.103153886296562:  95%|█████████████████████████████████████████████████████████████████████████████████████████████████████████▋     | 715/751 [00:05<00:00, 138.14it/s]"
     ]
    },
    {
     "name": "stdout",
     "output_type": "stream",
     "text": [
      "step count: 700 | name: yuri | gender: Female\n",
      "step count: 700 | name: yamagawa | gender: Male\n"
     ]
    },
    {
     "name": "stderr",
     "output_type": "stream",
     "text": [
      "loss: 2.008774995803833 | training loss: 2.1025925923917645: 100%|██████████████████████████████████████████████████████████████████████████████████████████████████████████████| 751/751 [00:05<00:00, 137.04it/s]\n"
     ]
    },
    {
     "name": "stdout",
     "output_type": "stream",
     "text": [
      "step count: 750 | name: yumina | gender: Female\n",
      "step count: 750 | name: yoshiki | gender: Male\n",
      "========================================\n",
      "EPOCH: 6\n",
      "========================================\n"
     ]
    },
    {
     "name": "stderr",
     "output_type": "stream",
     "text": [
      "loss: 2.1515326499938965 | training loss: 2.087489405235687:  10%|███████████                                                                                                    | 75/751 [00:00<00:04, 139.85it/s]"
     ]
    },
    {
     "name": "stdout",
     "output_type": "stream",
     "text": [
      "step count: 50 | name: yumiko | gender: Female\n",
      "step count: 50 | name: yukihito | gender: Male\n"
     ]
    },
    {
     "name": "stderr",
     "output_type": "stream",
     "text": [
      "loss: 2.079709768295288 | training loss: 2.092847849440387:  16%|█████████████████▎                                                                                             | 117/751 [00:00<00:04, 137.36it/s]"
     ]
    },
    {
     "name": "stdout",
     "output_type": "stream",
     "text": [
      "step count: 100 | name: yuuko | gender: Female\n",
      "step count: 100 | name: yashimaru | gender: Male\n"
     ]
    },
    {
     "name": "stderr",
     "output_type": "stream",
     "text": [
      "loss: 2.098708391189575 | training loss: 2.0895525567275657:  23%|█████████████████████████▋                                                                                    | 175/751 [00:01<00:04, 137.49it/s]"
     ]
    },
    {
     "name": "stdout",
     "output_type": "stream",
     "text": [
      "step count: 150 | name: yukimi | gender: Female\n",
      "step count: 150 | name: yoshinosuke | gender: Male\n"
     ]
    },
    {
     "name": "stderr",
     "output_type": "stream",
     "text": [
      "loss: 2.029306411743164 | training loss: 2.092065235066519:  29%|████████████████████████████████                                                                               | 217/751 [00:01<00:03, 136.07it/s]"
     ]
    },
    {
     "name": "stdout",
     "output_type": "stream",
     "text": [
      "step count: 200 | name: yuusuke | gender: Female\n",
      "step count: 200 | name: yoshin | gender: Male\n"
     ]
    },
    {
     "name": "stderr",
     "output_type": "stream",
     "text": [
      "loss: 2.0460855960845947 | training loss: 2.093063059696652:  36%|████████████████████████████████████████▏                                                                     | 274/751 [00:02<00:03, 137.54it/s]"
     ]
    },
    {
     "name": "stdout",
     "output_type": "stream",
     "text": [
      "step count: 250 | name: yuuka | gender: Female\n",
      "step count: 250 | name: yashin | gender: Male\n"
     ]
    },
    {
     "name": "stderr",
     "output_type": "stream",
     "text": [
      "loss: 2.0470962524414062 | training loss: 2.0924135754658626:  42%|█████████████████████████████████████████████▊                                                               | 316/751 [00:02<00:03, 132.87it/s]"
     ]
    },
    {
     "name": "stdout",
     "output_type": "stream",
     "text": [
      "step count: 300 | name: yukiko | gender: Female\n",
      "step count: 300 | name: yukitaka | gender: Male\n"
     ]
    },
    {
     "name": "stderr",
     "output_type": "stream",
     "text": [
      "loss: 2.165719747543335 | training loss: 2.094781127611796:  50%|██████████████████████████████████████████████████████▉                                                        | 372/751 [00:02<00:02, 129.17it/s]"
     ]
    },
    {
     "name": "stdout",
     "output_type": "stream",
     "text": [
      "step count: 350 | name: yuuka | gender: Female\n",
      "step count: 350 | name: yukichi | gender: Male\n"
     ]
    },
    {
     "name": "stderr",
     "output_type": "stream",
     "text": [
      "loss: 2.124938488006592 | training loss: 2.0950769071017996:  56%|██████████████████████████████████████████████████████████████                                                | 424/751 [00:03<00:02, 127.75it/s]"
     ]
    },
    {
     "name": "stdout",
     "output_type": "stream",
     "text": [
      "step count: 400 | name: yoshika | gender: Female\n",
      "step count: 400 | name: yoshitaka | gender: Male\n"
     ]
    },
    {
     "name": "stderr",
     "output_type": "stream",
     "text": [
      "loss: 2.0380091667175293 | training loss: 2.0965992940099616:  62%|███████████████████████████████████████████████████████████████████▍                                         | 465/751 [00:03<00:02, 127.49it/s]"
     ]
    },
    {
     "name": "stdout",
     "output_type": "stream",
     "text": [
      "step count: 450 | name: yamano | gender: Female\n",
      "step count: 450 | name: yamanosuke | gender: Male\n"
     ]
    },
    {
     "name": "stderr",
     "output_type": "stream",
     "text": [
      "loss: 2.1095540523529053 | training loss: 2.0974583217075895:  69%|███████████████████████████████████████████████████████████████████████████▍                                 | 520/751 [00:03<00:01, 129.96it/s]"
     ]
    },
    {
     "name": "stdout",
     "output_type": "stream",
     "text": [
      "step count: 500 | name: yuu | gender: Female\n",
      "step count: 500 | name: yuuki | gender: Male\n"
     ]
    },
    {
     "name": "stderr",
     "output_type": "stream",
     "text": [
      "loss: 2.1929190158843994 | training loss: 2.096997666151627:  75%|██████████████████████████████████████████████████████████████████████████████████▎                           | 562/751 [00:04<00:01, 129.40it/s]"
     ]
    },
    {
     "name": "stdout",
     "output_type": "stream",
     "text": [
      "step count: 550 | name: yuuko | gender: Female\n",
      "step count: 550 | name: yasuhito | gender: Male\n"
     ]
    },
    {
     "name": "stderr",
     "output_type": "stream",
     "text": [
      "loss: 2.1742348670959473 | training loss: 2.097893444824219:  82%|██████████████████████████████████████████████████████████████████████████████████████████▌                   | 618/751 [00:04<00:01, 128.83it/s]"
     ]
    },
    {
     "name": "stdout",
     "output_type": "stream",
     "text": [
      "step count: 600 | name: yuuta | gender: Female\n",
      "step count: 600 | name: yuukichi | gender: Male\n"
     ]
    },
    {
     "name": "stderr",
     "output_type": "stream",
     "text": [
      "loss: 2.1019372940063477 | training loss: 2.0982369218049226:  90%|█████████████████████████████████████████████████████████████████████████████████████████████████▋           | 673/751 [00:05<00:00, 126.93it/s]"
     ]
    },
    {
     "name": "stdout",
     "output_type": "stream",
     "text": [
      "step count: 650 | name: yukimura | gender: Female\n",
      "step count: 650 | name: yukihiko | gender: Male\n"
     ]
    },
    {
     "name": "stderr",
     "output_type": "stream",
     "text": [
      "loss: 2.098848819732666 | training loss: 2.09825405877212:  97%|████████████████████████████████████████████████████████████████████████████████████████████████████████████    | 725/751 [00:05<00:00, 125.80it/s]"
     ]
    },
    {
     "name": "stdout",
     "output_type": "stream",
     "text": [
      "step count: 700 | name: yumi | gender: Female\n",
      "step count: 700 | name: yamagawa | gender: Male\n"
     ]
    },
    {
     "name": "stderr",
     "output_type": "stream",
     "text": [
      "loss: 2.0036697387695312 | training loss: 2.097848358230489: 100%|██████████████████████████████████████████████████████████████████████████████████████████████████████████████| 751/751 [00:05<00:00, 131.50it/s]\n"
     ]
    },
    {
     "name": "stdout",
     "output_type": "stream",
     "text": [
      "step count: 750 | name: yoshiko | gender: Female\n",
      "step count: 750 | name: yoshika | gender: Male\n",
      "========================================\n",
      "EPOCH: 7\n",
      "========================================\n"
     ]
    },
    {
     "name": "stderr",
     "output_type": "stream",
     "text": [
      "loss: 2.080983877182007 | training loss: 2.0826602093378703:   9%|█████████▌                                                                                                     | 65/751 [00:00<00:05, 124.89it/s]"
     ]
    },
    {
     "name": "stdout",
     "output_type": "stream",
     "text": [
      "step count: 50 | name: yuumi | gender: Female\n",
      "step count: 50 | name: yuusuke | gender: Male\n"
     ]
    },
    {
     "name": "stderr",
     "output_type": "stream",
     "text": [
      "loss: 2.1254055500030518 | training loss: 2.088418445279521:  16%|█████████████████▏                                                                                            | 117/751 [00:00<00:05, 124.64it/s]"
     ]
    },
    {
     "name": "stdout",
     "output_type": "stream",
     "text": [
      "step count: 100 | name: yashima | gender: Female\n",
      "step count: 100 | name: yashimaru | gender: Male\n"
     ]
    },
    {
     "name": "stderr",
     "output_type": "stream",
     "text": [
      "loss: 2.128410816192627 | training loss: 2.086179007121495:  23%|████████████████████████▉                                                                                      | 169/751 [00:01<00:04, 124.71it/s]"
     ]
    },
    {
     "name": "stdout",
     "output_type": "stream",
     "text": [
      "step count: 150 | name: yukimi | gender: Female\n",
      "step count: 150 | name: younghoon | gender: Male\n"
     ]
    },
    {
     "name": "stderr",
     "output_type": "stream",
     "text": [
      "loss: 2.153684377670288 | training loss: 2.0899422828640257:  29%|████████████████████████████████▎                                                                             | 221/751 [00:01<00:04, 123.13it/s]"
     ]
    },
    {
     "name": "stdout",
     "output_type": "stream",
     "text": [
      "step count: 200 | name: yuusuke | gender: Female\n",
      "step count: 200 | name: yoshinosuke | gender: Male\n"
     ]
    },
    {
     "name": "stderr",
     "output_type": "stream",
     "text": [
      "loss: 2.109699249267578 | training loss: 2.091477231387674:  36%|████████████████████████████████████████▎                                                                      | 273/751 [00:02<00:03, 123.26it/s]"
     ]
    },
    {
     "name": "stdout",
     "output_type": "stream",
     "text": [
      "step count: 250 | name: yuubei | gender: Female\n",
      "step count: 250 | name: younghyung | gender: Male\n"
     ]
    },
    {
     "name": "stderr",
     "output_type": "stream",
     "text": [
      "loss: 2.0632846355438232 | training loss: 2.090511634166424:  43%|███████████████████████████████████████████████▌                                                              | 325/751 [00:02<00:03, 125.01it/s]"
     ]
    },
    {
     "name": "stdout",
     "output_type": "stream",
     "text": [
      "step count: 300 | name: yukina | gender: Female\n",
      "step count: 300 | name: yukitaka | gender: Male\n"
     ]
    },
    {
     "name": "stderr",
     "output_type": "stream",
     "text": [
      "loss: 2.1593730449676514 | training loss: 2.093007394110176:  49%|█████████████████████████████████████████████████████▉                                                        | 368/751 [00:02<00:02, 132.85it/s]"
     ]
    },
    {
     "name": "stdout",
     "output_type": "stream",
     "text": [
      "step count: 350 | name: yukino | gender: Female\n",
      "step count: 350 | name: yukitaka | gender: Male\n"
     ]
    },
    {
     "name": "stderr",
     "output_type": "stream",
     "text": [
      "loss: 2.1600818634033203 | training loss: 2.093095566126446:  57%|██████████████████████████████████████████████████████████████▍                                               | 426/751 [00:03<00:02, 136.28it/s]"
     ]
    },
    {
     "name": "stdout",
     "output_type": "stream",
     "text": [
      "step count: 400 | name: yoshima | gender: Female\n",
      "step count: 400 | name: yoshitoki | gender: Male\n"
     ]
    },
    {
     "name": "stderr",
     "output_type": "stream",
     "text": [
      "loss: 2.0894384384155273 | training loss: 2.0942095018282876:  62%|████████████████████████████████████████████████████████████████████                                         | 469/751 [00:03<00:02, 136.40it/s]"
     ]
    },
    {
     "name": "stdout",
     "output_type": "stream",
     "text": [
      "step count: 450 | name: yukihime | gender: Female\n",
      "step count: 450 | name: yamanosuke | gender: Male\n"
     ]
    },
    {
     "name": "stderr",
     "output_type": "stream",
     "text": [
      "loss: 2.1297008991241455 | training loss: 2.0949975019161795:  70%|████████████████████████████████████████████████████████████████████████████▎                                | 526/751 [00:04<00:01, 137.82it/s]"
     ]
    },
    {
     "name": "stdout",
     "output_type": "stream",
     "text": [
      "step count: 500 | name: yuuka | gender: Female\n",
      "step count: 500 | name: yamaka | gender: Male\n"
     ]
    },
    {
     "name": "stderr",
     "output_type": "stream",
     "text": [
      "loss: 2.0849497318267822 | training loss: 2.0943936632245626:  76%|██████████████████████████████████████████████████████████████████████████████████▍                          | 568/751 [00:04<00:01, 136.78it/s]"
     ]
    },
    {
     "name": "stdout",
     "output_type": "stream",
     "text": [
      "step count: 550 | name: yuuka | gender: Female\n",
      "step count: 550 | name: yamanosuke | gender: Male\n"
     ]
    },
    {
     "name": "stderr",
     "output_type": "stream",
     "text": [
      "loss: 2.1639304161071777 | training loss: 2.09489219553733:  83%|████████████████████████████████████████████████████████████████████████████████████████████▏                  | 624/751 [00:04<00:00, 137.75it/s]"
     ]
    },
    {
     "name": "stdout",
     "output_type": "stream",
     "text": [
      "step count: 600 | name: yuuta | gender: Female\n",
      "step count: 600 | name: yuuta | gender: Male\n"
     ]
    },
    {
     "name": "stderr",
     "output_type": "stream",
     "text": [
      "loss: 2.0836479663848877 | training loss: 2.0951461684580566:  89%|████████████████████████████████████████████████████████████████████████████████████████████████▋            | 666/751 [00:05<00:00, 136.62it/s]"
     ]
    },
    {
     "name": "stdout",
     "output_type": "stream",
     "text": [
      "step count: 650 | name: yuuko | gender: Female\n",
      "step count: 650 | name: yukimaru | gender: Male\n"
     ]
    },
    {
     "name": "stderr",
     "output_type": "stream",
     "text": [
      "loss: 2.0737173557281494 | training loss: 2.0953957645896377:  96%|████████████████████████████████████████████████████████████████████████████████████████████████████████▉    | 723/751 [00:05<00:00, 137.32it/s]"
     ]
    },
    {
     "name": "stdout",
     "output_type": "stream",
     "text": [
      "step count: 700 | name: yuri | gender: Female\n",
      "step count: 700 | name: yamagawa | gender: Male\n"
     ]
    },
    {
     "name": "stderr",
     "output_type": "stream",
     "text": [
      "loss: 1.987791895866394 | training loss: 2.094895131419724: 100%|███████████████████████████████████████████████████████████████████████████████████████████████████████████████| 751/751 [00:05<00:00, 131.40it/s]"
     ]
    },
    {
     "name": "stdout",
     "output_type": "stream",
     "text": [
      "step count: 750 | name: yukitsu | gender: Female\n",
      "step count: 750 | name: yoshino | gender: Male\n"
     ]
    },
    {
     "name": "stderr",
     "output_type": "stream",
     "text": [
      "\n"
     ]
    }
   ],
   "source": [
    "\n",
    "\n",
    "for epoch in range(EPOCHS):\n",
    "    print(\"=\"*40)\n",
    "    print(f\"EPOCH: {epoch}\")\n",
    "    print(\"=\"*40)\n",
    "    training_loss = []\n",
    "    step_count = 0\n",
    "    inference_per_step = 50\n",
    "    \n",
    "    for batch_start_idx in (tbar := tqdm(range(0,len(xs),BATCH_SIZE))):\n",
    "        \n",
    "        optimizer.zero_grad()\n",
    "        \n",
    "        input_xs = xs[batch_start_idx: batch_start_idx + BATCH_SIZE]\n",
    "        \n",
    "        pred_ys = model(input_xs, device=DEVICE)\n",
    "        loss = criterion(input_xs,pred_ys)\n",
    "        \n",
    "        loss.backward()\n",
    "        optimizer.step()\n",
    "        \n",
    "        step_count += 1\n",
    "        training_loss.append(loss.item())\n",
    "        \n",
    "        if step_count % inference_per_step == 0:\n",
    "            model.eval()\n",
    "            name = inference(model, \"y\", \"Female\")\n",
    "            print(f\"step count: {step_count} | name: {name} | gender: Female\")\n",
    "            name = inference(model, \"y\", \"Male\")\n",
    "            print(f\"step count: {step_count} | name: {name} | gender: Male\")\n",
    "            model.train()\n",
    "        \n",
    "        \n",
    "        tbar.set_description(f\"loss: {loss.item()} | training loss: {np.mean(training_loss)}\")"
   ]
  },
  {
   "cell_type": "code",
   "execution_count": 24,
   "id": "c7b1fc6f-0d74-4aad-9066-eb12fdb7e964",
   "metadata": {},
   "outputs": [
    {
     "data": {
      "text/plain": [
       "RNN(\n",
       "  (W_hh): Linear(in_features=1024, out_features=1024, bias=True)\n",
       "  (W_xh): Linear(in_features=512, out_features=1024, bias=True)\n",
       "  (W_hy): Linear(in_features=1024, out_features=30, bias=True)\n",
       "  (embeddings): Embedding(30, 512)\n",
       ")"
      ]
     },
     "execution_count": 24,
     "metadata": {},
     "output_type": "execute_result"
    }
   ],
   "source": [
    "model.eval()"
   ]
  },
  {
   "cell_type": "code",
   "execution_count": 32,
   "id": "627bb61d-d23c-4746-abfd-34aeb81db92c",
   "metadata": {},
   "outputs": [
    {
     "data": {
      "text/plain": [
       "'hanan'"
      ]
     },
     "execution_count": 32,
     "metadata": {},
     "output_type": "execute_result"
    }
   ],
   "source": [
    "inference(model, \"h\", \"Male\")"
   ]
  },
  {
   "cell_type": "code",
   "execution_count": 34,
   "id": "11b65f6f-5c47-4fc9-bdf4-0d47c6d507a1",
   "metadata": {},
   "outputs": [
    {
     "data": {
      "text/plain": [
       "torch.return_types.topk(\n",
       "values=tensor([9, 8]),\n",
       "indices=tensor([9, 8]))"
      ]
     },
     "execution_count": 34,
     "metadata": {},
     "output_type": "execute_result"
    }
   ],
   "source": [
    "torch.topk(,2)"
   ]
  },
  {
   "cell_type": "code",
   "execution_count": 37,
   "id": "bfe6fb1f-6976-4d30-94f2-20cb3e5be81f",
   "metadata": {},
   "outputs": [
    {
     "data": {
      "text/plain": [
       "9"
      ]
     },
     "execution_count": 37,
     "metadata": {},
     "output_type": "execute_result"
    }
   ],
   "source": [
    "random.choice(torch.arange(10).topk(2).indices.tolist())"
   ]
  },
  {
   "cell_type": "code",
   "execution_count": 45,
   "id": "84b9417f-9a73-42cf-850d-8fc0c2c59e07",
   "metadata": {},
   "outputs": [
    {
     "data": {
      "text/plain": [
       "torch.return_types.sort(\n",
       "values=tensor([9, 8, 7, 6, 5, 4, 3, 2, 1, 0]),\n",
       "indices=tensor([9, 8, 7, 6, 5, 4, 3, 2, 1, 0]))"
      ]
     },
     "execution_count": 45,
     "metadata": {},
     "output_type": "execute_result"
    }
   ],
   "source": [
    "torch.arange(10).sort(descending=True)"
   ]
  },
  {
   "cell_type": "code",
   "execution_count": 43,
   "id": "1c722d16-6fd7-44da-baf4-26cef6437159",
   "metadata": {},
   "outputs": [
    {
     "data": {
      "text/plain": [
       "\u001b[0;31mDocstring:\u001b[0m\n",
       "sort(input, dim=-1, descending=False, stable=False, *, out=None) -> (Tensor, LongTensor)\n",
       "\n",
       "Sorts the elements of the :attr:`input` tensor along a given dimension\n",
       "in ascending order by value.\n",
       "\n",
       "If :attr:`dim` is not given, the last dimension of the `input` is chosen.\n",
       "\n",
       "If :attr:`descending` is ``True`` then the elements are sorted in descending\n",
       "order by value.\n",
       "\n",
       "If :attr:`stable` is ``True`` then the sorting routine becomes stable, preserving\n",
       "the order of equivalent elements.\n",
       "\n",
       "A namedtuple of (values, indices) is returned, where the `values` are the\n",
       "sorted values and `indices` are the indices of the elements in the original\n",
       "`input` tensor.\n",
       "\n",
       "Args:\n",
       "    input (Tensor): the input tensor.\n",
       "    dim (int, optional): the dimension to sort along\n",
       "    descending (bool, optional): controls the sorting order (ascending or descending)\n",
       "    stable (bool, optional): makes the sorting routine stable, which guarantees that the order\n",
       "       of equivalent elements is preserved.\n",
       "\n",
       "Keyword args:\n",
       "    out (tuple, optional): the output tuple of (`Tensor`, `LongTensor`) that can\n",
       "        be optionally given to be used as output buffers\n",
       "\n",
       "Example::\n",
       "\n",
       "    >>> x = torch.randn(3, 4)\n",
       "    >>> sorted, indices = torch.sort(x)\n",
       "    >>> sorted\n",
       "    tensor([[-0.2162,  0.0608,  0.6719,  2.3332],\n",
       "            [-0.5793,  0.0061,  0.6058,  0.9497],\n",
       "            [-0.5071,  0.3343,  0.9553,  1.0960]])\n",
       "    >>> indices\n",
       "    tensor([[ 1,  0,  2,  3],\n",
       "            [ 3,  1,  0,  2],\n",
       "            [ 0,  3,  1,  2]])\n",
       "\n",
       "    >>> sorted, indices = torch.sort(x, 0)\n",
       "    >>> sorted\n",
       "    tensor([[-0.5071, -0.2162,  0.6719, -0.5793],\n",
       "            [ 0.0608,  0.0061,  0.9497,  0.3343],\n",
       "            [ 0.6058,  0.9553,  1.0960,  2.3332]])\n",
       "    >>> indices\n",
       "    tensor([[ 2,  0,  0,  1],\n",
       "            [ 0,  1,  1,  2],\n",
       "            [ 1,  2,  2,  0]])\n",
       "    >>> x = torch.tensor([0, 1] * 9)\n",
       "    >>> x.sort()\n",
       "    torch.return_types.sort(\n",
       "        values=tensor([0, 0, 0, 0, 0, 0, 0, 0, 0, 1, 1, 1, 1, 1, 1, 1, 1, 1]),\n",
       "        indices=tensor([ 2, 16,  4,  6, 14,  8,  0, 10, 12,  9, 17, 15, 13, 11,  7,  5,  3,  1]))\n",
       "    >>> x.sort(stable=True)\n",
       "    torch.return_types.sort(\n",
       "        values=tensor([0, 0, 0, 0, 0, 0, 0, 0, 0, 1, 1, 1, 1, 1, 1, 1, 1, 1]),\n",
       "        indices=tensor([ 0,  2,  4,  6,  8, 10, 12, 14, 16,  1,  3,  5,  7,  9, 11, 13, 15, 17]))\n",
       "\u001b[0;31mType:\u001b[0m      builtin_function_or_method"
      ]
     },
     "metadata": {},
     "output_type": "display_data"
    }
   ],
   "source": [
    "torch.sort?"
   ]
  },
  {
   "cell_type": "code",
   "execution_count": 46,
   "id": "ae28b93a-8074-4fc5-a2d4-a86ccf722c2e",
   "metadata": {},
   "outputs": [
    {
     "data": {
      "text/plain": [
       "1"
      ]
     },
     "execution_count": 46,
     "metadata": {},
     "output_type": "execute_result"
    }
   ],
   "source": [
    "1"
   ]
  },
  {
   "cell_type": "code",
   "execution_count": 47,
   "id": "9faf26ad-ec43-4271-9975-21ce29ed15ff",
   "metadata": {},
   "outputs": [],
   "source": [
    "torch.save(model.state_dict(), \"./weights/base_male_female_RNN.pt\")"
   ]
  },
  {
   "cell_type": "code",
   "execution_count": 48,
   "id": "22c4abfc-6659-49ef-9869-a7ce9a72b700",
   "metadata": {},
   "outputs": [
    {
     "data": {
      "text/plain": [
       "9"
      ]
     },
     "execution_count": 48,
     "metadata": {},
     "output_type": "execute_result"
    }
   ],
   "source": [
    "max(range(10))"
   ]
  },
  {
   "cell_type": "code",
   "execution_count": 49,
   "id": "24c7178f-40ea-467f-93e7-d99a4683f46b",
   "metadata": {},
   "outputs": [],
   "source": [
    "z = [*range(10)]"
   ]
  },
  {
   "cell_type": "code",
   "execution_count": 50,
   "id": "d6063e54-f1ce-4c45-a858-3dab4438bc4d",
   "metadata": {},
   "outputs": [
    {
     "data": {
      "text/plain": [
       "9"
      ]
     },
     "execution_count": 50,
     "metadata": {},
     "output_type": "execute_result"
    }
   ],
   "source": [
    "max(i for i in z)"
   ]
  },
  {
   "cell_type": "code",
   "execution_count": 52,
   "id": "6747218d-1e3c-4b02-ab8b-cc39f1fdc497",
   "metadata": {},
   "outputs": [
    {
     "data": {
      "text/plain": [
       "RNN(\n",
       "  (W_hh): Linear(in_features=1024, out_features=1024, bias=True)\n",
       "  (W_xh): Linear(in_features=512, out_features=1024, bias=True)\n",
       "  (W_hy): Linear(in_features=1024, out_features=30, bias=True)\n",
       "  (embeddings): Embedding(30, 512)\n",
       ")"
      ]
     },
     "execution_count": 52,
     "metadata": {},
     "output_type": "execute_result"
    }
   ],
   "source": [
    "model.eval()"
   ]
  },
  {
   "cell_type": "code",
   "execution_count": 55,
   "id": "13359907-b03b-4c4e-8206-ee88253b7c35",
   "metadata": {},
   "outputs": [
    {
     "data": {
      "text/plain": [
       "'yoshino'"
      ]
     },
     "execution_count": 55,
     "metadata": {},
     "output_type": "execute_result"
    }
   ],
   "source": [
    "inference(model, \"y\", \"Male\")"
   ]
  },
  {
   "cell_type": "code",
   "execution_count": null,
   "id": "b46cc616-0f49-4e2a-a94d-43739c95b723",
   "metadata": {},
   "outputs": [],
   "source": []
  }
 ],
 "metadata": {
  "kernelspec": {
   "display_name": "Python 3 (ipykernel)",
   "language": "python",
   "name": "python3"
  },
  "language_info": {
   "codemirror_mode": {
    "name": "ipython",
    "version": 3
   },
   "file_extension": ".py",
   "mimetype": "text/x-python",
   "name": "python",
   "nbconvert_exporter": "python",
   "pygments_lexer": "ipython3",
   "version": "3.12.5"
  }
 },
 "nbformat": 4,
 "nbformat_minor": 5
}
